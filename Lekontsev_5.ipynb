{
 "cells": [
  {
   "cell_type": "code",
   "execution_count": 10,
   "id": "2a4d4e69",
   "metadata": {},
   "outputs": [
    {
     "name": "stdout",
     "output_type": "stream",
     "text": [
      "Метод Гаусса:\n",
      "Решение:  [-1.11022302e-16  1.00000000e+00 -3.33066907e-16  2.00000000e+00\n",
      " -3.70074342e-16  3.00000000e+00  0.00000000e+00  4.00000000e+00\n",
      "  0.00000000e+00  5.00000000e+00  0.00000000e+00  6.00000000e+00\n",
      "  0.00000000e+00  7.00000000e+00  0.00000000e+00  8.00000000e+00\n",
      "  0.00000000e+00  9.00000000e+00  0.00000000e+00  1.00000000e+01]\n",
      "Минимум:  -3.7007434154171886e-16\n",
      "Максимум:  10.0\n"
     ]
    }
   ],
   "source": [
    "import numpy as np\n",
    "\n",
    "n = 20\n",
    "\n",
    "# матрица\n",
    "A = np.zeros((n,n))\n",
    "for i in range(n):\n",
    "    A[i,i] = 2\n",
    "for i in range(n-1):\n",
    "    A[i,i+1] = A[i+1,i] = 1\n",
    "\n",
    "#векторы\n",
    "b = np.ones(n-1)\n",
    "c = np.ones(n)\n",
    "d = np.ones(n-1)\n",
    "e = np.zeros(n-1)\n",
    "f = np.array([i for i in range(1,n+1)])\n",
    "\n",
    "#методод Гаусса\n",
    "x_gauss = np.linalg.solve(A, f)\n",
    "\n",
    "\n",
    "#минимум и максимум\n",
    "min_gauss = np.min(x_gauss)\n",
    "max_gauss = np.max(x_gauss)\n",
    "\n",
    "# Выводим результаты\n",
    "print(\"Метод Гаусса:\")\n",
    "print(\"Решение: \", x_gauss)\n",
    "print(\"Минимум: \", min_gauss)\n",
    "print(\"Максимум: \", max_gauss)\n",
    "\n",
    "\n",
    "\n"
   ]
  },
  {
   "cell_type": "code",
   "execution_count": null,
   "id": "6f2f3771",
   "metadata": {},
   "outputs": [],
   "source": []
  }
 ],
 "metadata": {
  "kernelspec": {
   "display_name": "Python 3 (ipykernel)",
   "language": "python",
   "name": "python3"
  },
  "language_info": {
   "codemirror_mode": {
    "name": "ipython",
    "version": 3
   },
   "file_extension": ".py",
   "mimetype": "text/x-python",
   "name": "python",
   "nbconvert_exporter": "python",
   "pygments_lexer": "ipython3",
   "version": "3.10.9"
  }
 },
 "nbformat": 4,
 "nbformat_minor": 5
}
