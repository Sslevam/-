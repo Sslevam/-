{
 "cells": [
  {
   "cell_type": "code",
   "execution_count": 14,
   "id": "294ae175",
   "metadata": {},
   "outputs": [
    {
     "name": "stdout",
     "output_type": "stream",
     "text": [
      "1.5702056054067182\n"
     ]
    }
   ],
   "source": [
    "def f(x):\n",
    "    return 1 / ((1 + x) * x**0.5)\n",
    "\n",
    "def rectangle(f, a, b, n): #метод левых прямоугольников \n",
    "    h = (b - a) / n\n",
    "    sum = 0\n",
    "    for i in range(n):\n",
    "        x = a + (i + 0.5) * h\n",
    "        sum += f(x)\n",
    "    return h * sum\n",
    "\n",
    "def integrate(f, a, b, e):\n",
    "    n = 1\n",
    "    error = float('inf')\n",
    "    while error > e:\n",
    "        I = rectangle(f, a, b, n)\n",
    "        if n == 1:\n",
    "            error = float('inf')\n",
    "        else:\n",
    "            error = abs(I - I_1) / 3\n",
    "        I_1 = I\n",
    "        n *= 2\n",
    "    return I\n",
    "\n",
    "a = 0\n",
    "b = 1\n",
    "e = 1e-4\n",
    "\n",
    "result = integrate(f, a, b, e)\n",
    "print(result)\n"
   ]
  },
  {
   "cell_type": "code",
   "execution_count": null,
   "id": "c26daad0",
   "metadata": {},
   "outputs": [],
   "source": []
  },
  {
   "cell_type": "code",
   "execution_count": null,
   "id": "c05f41bf",
   "metadata": {},
   "outputs": [],
   "source": []
  }
 ],
 "metadata": {
  "kernelspec": {
   "display_name": "Python 3 (ipykernel)",
   "language": "python",
   "name": "python3"
  },
  "language_info": {
   "codemirror_mode": {
    "name": "ipython",
    "version": 3
   },
   "file_extension": ".py",
   "mimetype": "text/x-python",
   "name": "python",
   "nbconvert_exporter": "python",
   "pygments_lexer": "ipython3",
   "version": "3.10.9"
  }
 },
 "nbformat": 4,
 "nbformat_minor": 5
}
